{
 "cells": [
  {
   "cell_type": "code",
   "execution_count": 9,
   "id": "9dd1d9fe",
   "metadata": {},
   "outputs": [],
   "source": [
    "import pandas as pd\n",
    "import os\n",
    "from sqlalchemy import create_engine\n",
    "import logging\n",
    "import time\n",
    "\n",
    "logging.basicConfig(\n",
    "    filename=\"logs/ingestion_db.log\",\n",
    "    level=logging.DEBUG,\n",
    "    format=\"%(asctime)s - %(levelname)s - %(message)s\",\n",
    "    filemode=\"a\"\n",
    ")\n",
    "\n",
    "engine = create_engine('sqlite:///inventory.db')\n",
    "\n",
    "def ingest_db(df, table_name, engine):\n",
    "    '''This function will ingest the dataframe into database table'''\n",
    "    df.to_sql(table_name, con = engine, if_exists= 'replace', index=False)\n",
    "\n",
    "def load_raw_data():\n",
    "    '''This function will load the CSVs as dataframes and ingest into db'''\n",
    "    start = time.time()\n",
    "    for file in os.listdir('dataset'):\n",
    "        if '.csv' in file:\n",
    "            df = pd.read_csv('dataset/'+file)\n",
    "            logging.info(f'Ingesting {file} in db')\n",
    "            ingest_db(df, file[:-4], engine)\n",
    "    end = time.time()\n",
    "    total_time = (end - start)/60\n",
    "    logging.info('----------Ingestion Complete----------')\n",
    "    logging.info(f'\\nTotal Time Taken: {total_time} minutes')\n",
    "\n",
    "if __name__== '__main__':\n",
    "    load_raw_data()"
   ]
  },
  {
   "cell_type": "code",
   "execution_count": null,
   "id": "e5527e72",
   "metadata": {},
   "outputs": [],
   "source": [
    "if __name__== '__main__':\n",
    "    load_raw_data()"
   ]
  },
  {
   "cell_type": "code",
   "execution_count": null,
   "id": "11363068",
   "metadata": {},
   "outputs": [],
   "source": [
    "engine = create_engine('sqlite:///inventory.db')\n",
    "\n",
    "def ingest_db(df, table_name, engine):\n",
    "    '''This function will ingest the dataframe into database table'''\n",
    "    df.to_sql(table_name, con = engine, if_exists= 'replace', index=False)\n",
    "\n",
    "def load_raw_data():\n",
    "    '''This function will load the CSVs as dataframes and ingest into db'''\n",
    "    start = time.time()\n",
    "    for file in os.listdir('dataset'):\n",
    "        if '.csv' in file:\n",
    "            df = pd.read_csv('dataset/'+file)\n",
    "            logging.info(f'Ingesting {file} in db')\n",
    "            ingest_db(df, file[:-4], engine)\n",
    "    end = time.time()\n",
    "    total_time = (end - start)/60\n",
    "    logging.info('----------Ingestion Complete----------')\n",
    "    logging.info(f'\\nTotal Time Taken: {total_time} minutes')"
   ]
  },
  {
   "cell_type": "code",
   "execution_count": null,
   "id": "aaab5585",
   "metadata": {},
   "outputs": [
    {
     "name": "stdout",
     "output_type": "stream",
     "text": [
      "(206529, 9)\n",
      "(224489, 9)\n",
      "(2372474, 16)\n",
      "(12261, 9)\n",
      "(12825363, 14)\n",
      "(5543, 10)\n"
     ]
    }
   ],
   "source": [
    "def ingest_db(df, table_name, engine):\n",
    "    '''This function will ingest the dataframe into database table'''\n",
    "    df.to_sql(table_name, con = engine, if_exists= 'replace', index=False)\n",
    "\n",
    "def load_raw_data():\n",
    "    '''This function will load the CSVs as dataframes and ingest into db'''\n",
    "    start = time.time()\n",
    "    for file in os.listdir('dataset'):\n",
    "        if '.csv' in file:\n",
    "            df = pd.read_csv('dataset/'+file)\n",
    "            logging.info(f'Ingesting {file} in db')\n",
    "            ingest_db(df, file[:-4], engine)\n",
    "    end = time.time()\n",
    "    total_time = (end - start)/60\n",
    "    logging.info('----------Ingestion Complete----------')\n",
    "    logging.info(f'\\nTotal Time Taken: {total_time} minutes')"
   ]
  },
  {
   "cell_type": "code",
   "execution_count": null,
   "id": "8656e8d0",
   "metadata": {},
   "outputs": [],
   "source": [
    "def ingest_db(df, table_name, engine):\n",
    "    '''This function will ingest the dataframe into database table'''\n",
    "    df.to_sql(table_name, con = engine, if_exists= 'replace', index=False)"
   ]
  }
 ],
 "metadata": {
  "kernelspec": {
   "display_name": "Python 3",
   "language": "python",
   "name": "python3"
  },
  "language_info": {
   "codemirror_mode": {
    "name": "ipython",
    "version": 3
   },
   "file_extension": ".py",
   "mimetype": "text/x-python",
   "name": "python",
   "nbconvert_exporter": "python",
   "pygments_lexer": "ipython3",
   "version": "3.12.7"
  }
 },
 "nbformat": 4,
 "nbformat_minor": 5
}
